{
 "cells": [
  {
   "cell_type": "code",
   "execution_count": 1,
   "metadata": {},
   "outputs": [
    {
     "name": "stdout",
     "output_type": "stream",
     "text": [
      "Downloading InMAP executable for Darwin\r"
     ]
    },
    {
     "name": "stderr",
     "output_type": "stream",
     "text": [
      "/Users/Hennessy/opt/anaconda3/lib/python3.7/site-packages/IPython/core/interactiveshell.py:3249: DtypeWarning: Columns (9) have mixed types.Specify dtype option on import or set low_memory=False.\n",
      "  if (await self.run_code(code, result,  async_=asy)):\n"
     ]
    },
    {
     "name": "stdout",
     "output_type": "stream",
     "text": [
      "Index(['Unnamed: 0', 'STATE', 'Plant.Code', 'OP_DATE_TIME', 'Total.NOx.tons',\n",
      "       'Total.SO2.tons', 'Total.Gen.MWh', 'Total.CO2.tons', 'TZ', 'CHPFLAG',\n",
      "       'ELCALLOC'],\n",
      "      dtype='object')\n"
     ]
    }
   ],
   "source": [
    "from Electricity_Imports_Analysis import *"
   ]
  },
  {
   "cell_type": "code",
   "execution_count": 9,
   "metadata": {},
   "outputs": [
    {
     "name": "stderr",
     "output_type": "stream",
     "text": [
      "/Users/Hennessy/Desktop/IMSR/Electricity_Imports_Analysis.py:992: FutureWarning: The pandas.datetime class is deprecated and will be removed from pandas in a future version. Import from datetime module instead.\n",
      "  start_time_imports = pd.datetime.now()\n"
     ]
    },
    {
     "name": "stdout",
     "output_type": "stream",
     "text": [
      "HECOCEA\n",
      "CEA import isrm all LK\n",
      "\n",
      "HECO import AMPL\n",
      "AMPL import isrm all LK\n",
      "isrm all LK\n",
      "GRIS\n",
      "ERCO\n",
      "ERCO import isrm all LK\n",
      "GRIS import isrm all LK\n",
      "CEN\n",
      "CFE\n",
      "SWPP\n",
      "got geometry\n",
      "isrm\n",
      "Finished (77 seconds)                          \n"
     ]
    },
    {
     "name": "stderr",
     "output_type": "stream",
     "text": [
      "/Users/Hennessy/opt/anaconda3/lib/python3.7/site-packages/pyproj/crs/crs.py:53: FutureWarning: '+init=<authority>:<code>' syntax is deprecated. '<authority>:<code>' is the preferred initialization method. When making the change, be mindful of axis order changes: https://pyproj4.github.io/pyproj/stable/gotchas.html#axis-order-changes-in-proj-6\n",
      "  return _prepare_from_string(\" \".join(pjargs))\n",
      "/Users/Hennessy/opt/anaconda3/lib/python3.7/site-packages/pandas/core/indexing.py:1637: SettingWithCopyWarning: \n",
      "A value is trying to be set on a copy of a slice from a DataFrame\n",
      "\n",
      "See the caveats in the documentation: https://pandas.pydata.org/pandas-docs/stable/user_guide/indexing.html#returning-a-view-versus-a-copy\n",
      "  self._setitem_single_block(indexer, value, name)\n",
      "/Users/Hennessy/opt/anaconda3/lib/python3.7/site-packages/pyproj/crs/crs.py:53: FutureWarning: '+init=<authority>:<code>' syntax is deprecated. '<authority>:<code>' is the preferred initialization method. When making the change, be mindful of axis order changes: https://pyproj4.github.io/pyproj/stable/gotchas.html#axis-order-changes-in-proj-6\n",
      "  return _prepare_from_string(\" \".join(pjargs))\n",
      "/Users/Hennessy/opt/anaconda3/lib/python3.7/site-packages/pandas/core/indexing.py:1637: SettingWithCopyWarning: \n",
      "A value is trying to be set on a copy of a slice from a DataFrame\n",
      "\n",
      "See the caveats in the documentation: https://pandas.pydata.org/pandas-docs/stable/user_guide/indexing.html#returning-a-view-versus-a-copy\n",
      "  self._setitem_single_block(indexer, value, name)\n",
      "/Users/Hennessy/opt/anaconda3/lib/python3.7/site-packages/pyproj/crs/crs.py:53: FutureWarning: '+init=<authority>:<code>' syntax is deprecated. '<authority>:<code>' is the preferred initialization method. When making the change, be mindful of axis order changes: https://pyproj4.github.io/pyproj/stable/gotchas.html#axis-order-changes-in-proj-6\n",
      "  return _prepare_from_string(\" \".join(pjargs))\n",
      "/Users/Hennessy/opt/anaconda3/lib/python3.7/site-packages/pandas/core/indexing.py:1637: SettingWithCopyWarning: \n",
      "A value is trying to be set on a copy of a slice from a DataFrame\n",
      "\n",
      "See the caveats in the documentation: https://pandas.pydata.org/pandas-docs/stable/user_guide/indexing.html#returning-a-view-versus-a-copy\n",
      "  self._setitem_single_block(indexer, value, name)\n",
      "/Users/Hennessy/opt/anaconda3/lib/python3.7/site-packages/pyproj/crs/crs.py:53: FutureWarning: '+init=<authority>:<code>' syntax is deprecated. '<authority>:<code>' is the preferred initialization method. When making the change, be mindful of axis order changes: https://pyproj4.github.io/pyproj/stable/gotchas.html#axis-order-changes-in-proj-6\n",
      "  return _prepare_from_string(\" \".join(pjargs))\n",
      "/Users/Hennessy/opt/anaconda3/lib/python3.7/site-packages/pandas/core/indexing.py:1637: SettingWithCopyWarning: \n",
      "A value is trying to be set on a copy of a slice from a DataFrame\n",
      "\n",
      "See the caveats in the documentation: https://pandas.pydata.org/pandas-docs/stable/user_guide/indexing.html#returning-a-view-versus-a-copy\n",
      "  self._setitem_single_block(indexer, value, name)\n",
      "/Users/Hennessy/Desktop/IMSR/Electricity_Imports_Analysis.py:1025: FutureWarning: The pandas.datetime class is deprecated and will be removed from pandas in a future version. Import from datetime module instead.\n",
      "  end_time_imports = pd.datetime.now()\n",
      "/Users/Hennessy/Desktop/IMSR/Electricity_Imports_Analysis.py:992: FutureWarning: The pandas.datetime class is deprecated and will be removed from pandas in a future version. Import from datetime module instead.\n",
      "  start_time_imports = pd.datetime.now()\n"
     ]
    },
    {
     "name": "stdout",
     "output_type": "stream",
     "text": [
      "HECOCEA\n",
      "CEA self isrm \n",
      "HECO selfall LK\n",
      " isrm all LK\n",
      "AMPL\n",
      "AMPL self isrm all LK\n",
      "SCL\n",
      "SCL selfTPWR isrm all LK\n",
      "CHPD\n",
      "CHPD selfDOPD\n",
      " isrm all LK\n",
      "DOPD\n",
      " self isrm all LK\n",
      "GCPD\n",
      "GCPD self isrm all LK\n",
      "HGMATPWR self isrm all LK\n",
      "\n",
      "HGMA self isrm all LK\n",
      "got geometry\n",
      "got geometry\n",
      "got geometrygot geometryisrm\n",
      "\n",
      "\n",
      "isrm\n",
      "GRMAgot geometryGWAisrm\n",
      "WWAisrm\n",
      "WAUW\n",
      "WAUW\n",
      "GWA self\n",
      "WWA self isrm all \n",
      "isrm\n",
      "GRIS\n",
      "GRIS self isrm all\n",
      " isrm all LKGRMA self isrm all LK\n",
      "LK\n",
      "\n",
      " LK\n",
      " self isrm all LK\n",
      "got geometry\n",
      "isrm\n",
      "SEPA\n",
      "SEPACPLW\n",
      "CPLW self isrm all LK\n",
      " self isrm all LK\n",
      "got geometrygot geometry\n",
      "isrm\n",
      "NSB\n",
      "isrm\n",
      "HST\n",
      "HST selfgot geometry\n",
      "NSB  self\n",
      " isrm allisrm LK\n",
      "isrm\n",
      "YAD\n",
      "got geometry \n",
      "isrm\n",
      "NBSO\n",
      "NBSOYAD self isrm all LK\n",
      "all LK\n",
      " self isrm all LK\n",
      "got geometry\n",
      "isrm\n",
      "got geometry\n",
      "isrm\n",
      "got geometry\n",
      "isrm\n",
      "got geometry\n",
      "isrm\n",
      "got geometry\n",
      "isrm\n",
      "got geometry\n",
      "isrm\n"
     ]
    },
    {
     "name": "stderr",
     "output_type": "stream",
     "text": [
      "/Users/Hennessy/Desktop/IMSR/Electricity_Imports_Analysis.py:1025: FutureWarning: The pandas.datetime class is deprecated and will be removed from pandas in a future version. Import from datetime module instead.\n",
      "  end_time_imports = pd.datetime.now()\n"
     ]
    }
   ],
   "source": [
    "BAs_sorted = sort_BAs()\n",
    "#results_imports, results_self, errors_imports, errors_self = run_imports_and_self(BAs_sorted[\"BACODE\"], \"isrm\",\"all\",\"L\", True, True, False, False, False, results_imports_coal, results_self_coal)\n",
    "results_imports_i_coal2gasCCS, results_self_i_coal2gasCCS, errors_imports_i_coal2gasCCS, errors_self_i_coal2gasCCS = run_imports_and_self(BAs_sorted[\"BACODE\"], \"isrm\",\"all\",\"LK\", True, True, False, False, False, True, results_imports_i_coal2gasCCS, results_self_i_coal2gasCCS)\n",
    "results_imports_i_K_coal2gasCCS = {ba: results_imports_i_coal2gasCCS[ba][0] for ba in results_imports_i_coal2gasCCS}\n",
    "results_imports_i_L_coal2gasCCS = {ba: results_imports_i_coal2gasCCS[ba][1] for ba in results_imports_i_coal2gasCCS}\n",
    "results_self_i_K_coal2gasCCS = {ba: results_self_i_coal2gasCCS[ba][0] for ba in results_self_i_coal2gasCCS}\n",
    "results_self_i_L_coal2gasCCS = {ba: results_self_i_coal2gasCCS[ba][1] for ba in results_self_i_coal2gasCCS}"
   ]
  },
  {
   "cell_type": "code",
   "execution_count": 11,
   "metadata": {},
   "outputs": [
    {
     "data": {
      "text/plain": [
       "50"
      ]
     },
     "execution_count": 11,
     "metadata": {},
     "output_type": "execute_result"
    }
   ],
   "source": [
    "len(results_self_i_coal2gasCCS)"
   ]
  },
  {
   "cell_type": "code",
   "execution_count": 12,
   "metadata": {},
   "outputs": [],
   "source": [
    "import pickle\n",
    "   \n",
    "with open(\"results_self_coal2gasCCS_i_k\",'wb') as f:\n",
    "    pickle.dump(results_self_i_K_coal2gasCCS, f)\n",
    "with open(\"results_imports_coal2gasCCS_i_k\",'wb') as f:\n",
    "    pickle.dump(results_imports_i_K_coal2gasCCS, f)\n",
    "with open(\"results_self_coal2gasCCS_i_l\",'wb') as f:\n",
    "    pickle.dump(results_self_i_L_coal2gasCCS, f)\n",
    "with open(\"results_imports_coal2gasCCS_i_l\",'wb') as f:\n",
    "    pickle.dump(results_imports_i_L_coal2gasCCS, f)"
   ]
  },
  {
   "cell_type": "code",
   "execution_count": null,
   "metadata": {},
   "outputs": [],
   "source": []
  }
 ],
 "metadata": {
  "kernelspec": {
   "display_name": "Python 3",
   "language": "python",
   "name": "python3"
  },
  "language_info": {
   "codemirror_mode": {
    "name": "ipython",
    "version": 3
   },
   "file_extension": ".py",
   "mimetype": "text/x-python",
   "name": "python",
   "nbconvert_exporter": "python",
   "pygments_lexer": "ipython3",
   "version": "3.7.4"
  }
 },
 "nbformat": 4,
 "nbformat_minor": 4
}
